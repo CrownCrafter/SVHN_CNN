{
 "cells": [
  {
   "cell_type": "markdown",
   "metadata": {},
   "source": [
    "# Capstone Project\n",
    "## Image classifier for the SVHN dataset\n",
    "### Instructions\n",
    "\n",
    "In this notebook, you will create a neural network that classifies real-world images digits. You will use concepts from throughout this course in building, training, testing, validating and saving your Tensorflow classifier model.\n",
    "\n",
    "This project is peer-assessed. Within this notebook you will find instructions in each section for how to complete the project. Pay close attention to the instructions as the peer review will be carried out according to a grading rubric that checks key parts of the project instructions. Feel free to add extra cells into the notebook as required.\n",
    "\n",
    "### How to submit\n",
    "\n",
    "When you have completed the Capstone project notebook, you will submit a pdf of the notebook for peer review. First ensure that the notebook has been fully executed from beginning to end, and all of the cell outputs are visible. This is important, as the grading rubric depends on the reviewer being able to view the outputs of your notebook. Save the notebook as a pdf (File -> Download as -> PDF via LaTeX). You should then submit this pdf for review.\n",
    "\n",
    "### Let's get started!\n",
    "\n",
    "We'll start by running some imports, and loading the dataset. For this project you are free to make further imports throughout the notebook as you wish. "
   ]
  },
  {
   "cell_type": "code",
   "execution_count": 1,
   "metadata": {},
   "outputs": [],
   "source": [
    "import tensorflow as tf\n",
    "from tensorflow.keras.models import Sequential\n",
    "from tensorflow.keras.layers import *\n",
    "from tensorflow.keras.callbacks import *\n",
    "from scipy.io import loadmat\n",
    "import matplotlib.pyplot as plt\n",
    "import numpy as np\n",
    "from PIL import Image"
   ]
  },
  {
   "cell_type": "markdown",
   "metadata": {},
   "source": [
    "![SVHN overview image](data/svhn_examples.jpg)\n",
    "For the capstone project, you will use the [SVHN dataset](http://ufldl.stanford.edu/housenumbers/). This is an  image dataset of over 600,000 digit images in all, and is a harder dataset than MNIST as the numbers appear in the context of natural scene images. SVHN is obtained from house numbers in Google Street View images. \n",
    "\n",
    "* Y. Netzer, T. Wang, A. Coates, A. Bissacco, B. Wu and A. Y. Ng. \"Reading Digits in Natural Images with Unsupervised Feature Learning\". NIPS Workshop on Deep Learning and Unsupervised Feature Learning, 2011.\n",
    "\n",
    "Your goal is to develop an end-to-end workflow for building, training, validating, evaluating and saving a neural network that classifies a real-world image into one of ten classes."
   ]
  },
  {
   "cell_type": "code",
   "execution_count": 2,
   "metadata": {},
   "outputs": [],
   "source": [
    "# Run this cell to load the dataset\n",
    "\n",
    "train = loadmat('data/train_32x32.mat')\n",
    "test = loadmat('data/test_32x32.mat')"
   ]
  },
  {
   "cell_type": "markdown",
   "metadata": {},
   "source": [
    "Both `train` and `test` are dictionaries with keys `X` and `y` for the input images and labels respectively."
   ]
  },
  {
   "cell_type": "markdown",
   "metadata": {},
   "source": [
    "## 1. Inspect and preprocess the dataset\n",
    "* Extract the training and testing images and labels separately from the train and test dictionaries loaded for you.\n",
    "* Select a random sample of images and corresponding labels from the dataset (at least 10), and display them in a figure.\n",
    "* Convert the training and test images to grayscale by taking the average across all colour channels for each pixel. _Hint: retain the channel dimension, which will now have size 1._\n",
    "* Select a random sample of the grayscale images and corresponding labels from the dataset (at least 10), and display them in a figure."
   ]
  },
  {
   "cell_type": "code",
   "execution_count": 3,
   "metadata": {},
   "outputs": [],
   "source": [
    "X_train = train['X']\n",
    "y_train = train['y']\n",
    "X_test = test['X']\n",
    "y_test = test['y']"
   ]
  },
  {
   "cell_type": "code",
   "execution_count": 4,
   "metadata": {},
   "outputs": [],
   "source": [
    "\n",
    "X_train = np.moveaxis(X_train, -1, 0)\n",
    "X_test = np.moveaxis(X_test, -1 , 0)\n",
    "\n"
   ]
  },
  {
   "cell_type": "code",
   "execution_count": null,
   "metadata": {},
   "outputs": [],
   "source": []
  },
  {
   "cell_type": "code",
   "execution_count": 5,
   "metadata": {},
   "outputs": [],
   "source": [
    "\n",
    "\n",
    "X_train_gs = np.mean(X_train, 3).reshape(73257, 32, 32, 1)/255\n",
    "X_test_gs = np.mean(X_test,3).reshape(26032, 32,32 ,1)/255\n",
    "X_train_for_plotting = np.mean(X_train,3)\n",
    "\n"
   ]
  },
  {
   "cell_type": "code",
   "execution_count": 6,
   "metadata": {},
   "outputs": [],
   "source": [
    "\n",
    "\n",
    "from sklearn.preprocessing import OneHotEncoder\n",
    "\n",
    "enc = OneHotEncoder().fit(y_train)\n",
    "y_train_oh = enc.transform(y_train).toarray()\n",
    "y_test_oh = enc.transform(y_test).toarray()\n",
    "\n"
   ]
  },
  {
   "cell_type": "code",
   "execution_count": 7,
   "metadata": {},
   "outputs": [],
   "source": [
    "\n",
    "\n",
    "checkpoint = ModelCheckpoint(filepath = 'SeqMode\\\\mySeqModel', save_best_only=True, save_weights_only=True, monitor='val_loss', verbose=1)\n",
    "earlystop = EarlyStopping(patience=5, monitor='loss')\n",
    "\n"
   ]
  },
  {
   "cell_type": "code",
   "execution_count": null,
   "metadata": {
    "scrolled": true
   },
   "outputs": [],
   "source": []
  },
  {
   "cell_type": "markdown",
   "metadata": {},
   "source": [
    "## 2. MLP neural network classifier\n",
    "* Build an MLP classifier model using the Sequential API. Your model should use only Flatten and Dense layers, with the final layer having a 10-way softmax output. \n",
    "* You should design and build the model yourself. Feel free to experiment with different MLP architectures. _Hint: to achieve a reasonable accuracy you won't need to use more than 4 or 5 layers._\n",
    "* Print out the model summary (using the summary() method)\n",
    "* Compile and train the model (we recommend a maximum of 30 epochs), making use of both training and validation sets during the training run. \n",
    "* Your model should track at least one appropriate metric, and use at least two callbacks during training, one of which should be a ModelCheckpoint callback.\n",
    "* As a guide, you should aim to achieve a final categorical cross entropy training loss of less than 1.0 (the validation loss might be higher).\n",
    "* Plot the learning curves for loss vs epoch and accuracy vs epoch for both training and validation sets.\n",
    "* Compute and display the loss and accuracy of the trained model on the test set."
   ]
  },
  {
   "cell_type": "code",
   "execution_count": 8,
   "metadata": {},
   "outputs": [
    {
     "name": "stdout",
     "output_type": "stream",
     "text": [
      "Model: \"sequential\"\n",
      "_________________________________________________________________\n",
      "Layer (type)                 Output Shape              Param #   \n",
      "=================================================================\n",
      "flatten (Flatten)            (None, 3072)              0         \n",
      "_________________________________________________________________\n",
      "dense (Dense)                (None, 512)               1573376   \n",
      "_________________________________________________________________\n",
      "dense_1 (Dense)              (None, 64)                32832     \n",
      "_________________________________________________________________\n",
      "batch_normalization (BatchNo (None, 64)                256       \n",
      "_________________________________________________________________\n",
      "dense_2 (Dense)              (None, 64)                4160      \n",
      "_________________________________________________________________\n",
      "dropout (Dropout)            (None, 64)                0         \n",
      "_________________________________________________________________\n",
      "dense_3 (Dense)              (None, 32)                2080      \n",
      "_________________________________________________________________\n",
      "dense_4 (Dense)              (None, 10)                330       \n",
      "=================================================================\n",
      "Total params: 1,613,034\n",
      "Trainable params: 1,612,906\n",
      "Non-trainable params: 128\n",
      "_________________________________________________________________\n"
     ]
    }
   ],
   "source": [
    "\n",
    "\n",
    "model2 = Sequential([\n",
    "    Flatten(input_shape=X_train[0].shape),\n",
    "    Dense(128*4, activation='relu'),\n",
    "    Dense(64, activation='relu'),\n",
    "    BatchNormalization(),\n",
    "    Dense(64, activation='relu'),\n",
    "    tf.keras.layers.Dropout(0.5),\n",
    "    Dense(32, activation='relu'),\n",
    "    Dense(10, activation='softmax')\n",
    "])\n",
    "model2.summary()\n",
    "\n"
   ]
  },
  {
   "cell_type": "code",
   "execution_count": 9,
   "metadata": {},
   "outputs": [],
   "source": [
    "model2.compile(optimizer='adam', loss='categorical_crossentropy', metrics=['acc'])"
   ]
  },
  {
   "cell_type": "code",
   "execution_count": 10,
   "metadata": {},
   "outputs": [
    {
     "name": "stdout",
     "output_type": "stream",
     "text": [
      "Train on 73257 samples, validate on 26032 samples\n",
      "Epoch 1/30\n",
      "73216/73257 [============================>.] - ETA: 0s - loss: 2.0427 - acc: 0.2648\n",
      "Epoch 00001: val_loss improved from inf to 1.73198, saving model to SeqMode\\mySeqModel\n",
      "73257/73257 [==============================] - 80s 1ms/sample - loss: 2.0425 - acc: 0.2649 - val_loss: 1.7320 - val_acc: 0.3999\n",
      "Epoch 2/30\n",
      "73216/73257 [============================>.] - ETA: 0s - loss: 1.6315 - acc: 0.4330\n",
      "Epoch 00002: val_loss improved from 1.73198 to 1.67744, saving model to SeqMode\\mySeqModel\n",
      "73257/73257 [==============================] - 74s 1ms/sample - loss: 1.6316 - acc: 0.4330 - val_loss: 1.6774 - val_acc: 0.4404\n",
      "Epoch 3/30\n",
      "73216/73257 [============================>.] - ETA: 0s - loss: 1.4572 - acc: 0.5160\n",
      "Epoch 00003: val_loss did not improve from 1.67744\n",
      "73257/73257 [==============================] - 74s 1ms/sample - loss: 1.4570 - acc: 0.5161 - val_loss: 2.0141 - val_acc: 0.4076\n",
      "Epoch 4/30\n",
      "73216/73257 [============================>.] - ETA: 0s - loss: 1.4622 - acc: 0.5157\n",
      "Epoch 00004: val_loss did not improve from 1.67744\n",
      "73257/73257 [==============================] - 74s 1ms/sample - loss: 1.4622 - acc: 0.5157 - val_loss: 1.7699 - val_acc: 0.4567\n",
      "Epoch 5/30\n",
      "73216/73257 [============================>.] - ETA: 0s - loss: 1.3566 - acc: 0.5606\n",
      "Epoch 00005: val_loss improved from 1.67744 to 1.53560, saving model to SeqMode\\mySeqModel\n",
      "73257/73257 [==============================] - 73s 1ms/sample - loss: 1.3565 - acc: 0.5606 - val_loss: 1.5356 - val_acc: 0.5179\n",
      "Epoch 6/30\n",
      "73216/73257 [============================>.] - ETA: 0s - loss: 1.3098 - acc: 0.5794\n",
      "Epoch 00006: val_loss did not improve from 1.53560\n",
      "73257/73257 [==============================] - 74s 1ms/sample - loss: 1.3097 - acc: 0.5794 - val_loss: 1.6892 - val_acc: 0.4733\n",
      "Epoch 7/30\n",
      "73216/73257 [============================>.] - ETA: 0s - loss: 1.2901 - acc: 0.5856\n",
      "Epoch 00007: val_loss did not improve from 1.53560\n",
      "73257/73257 [==============================] - 76s 1ms/sample - loss: 1.2901 - acc: 0.5855 - val_loss: 1.5659 - val_acc: 0.5135\n",
      "Epoch 8/30\n",
      "73216/73257 [============================>.] - ETA: 0s - loss: 1.2669 - acc: 0.5965\n",
      "Epoch 00008: val_loss did not improve from 1.53560\n",
      "73257/73257 [==============================] - 76s 1ms/sample - loss: 1.2668 - acc: 0.5965 - val_loss: 1.5495 - val_acc: 0.5220\n",
      "Epoch 9/30\n",
      "73216/73257 [============================>.] - ETA: 0s - loss: 1.2474 - acc: 0.6044 - ETA: 9s - loss: 1.2495 - acc: 0.60 - ETA: 9s - loss: 1.2494 - acc: \n",
      "Epoch 00009: val_loss did not improve from 1.53560\n",
      "73257/73257 [==============================] - 74s 1ms/sample - loss: 1.2472 - acc: 0.6044 - val_loss: 1.6200 - val_acc: 0.5422\n",
      "Epoch 10/30\n",
      "73216/73257 [============================>.] - ETA: 0s - loss: 1.2266 - acc: 0.6124\n",
      "Epoch 00010: val_loss improved from 1.53560 to 1.47798, saving model to SeqMode\\mySeqModel\n",
      "73257/73257 [==============================] - 74s 1ms/sample - loss: 1.2266 - acc: 0.6123 - val_loss: 1.4780 - val_acc: 0.6024\n",
      "Epoch 11/30\n",
      "73216/73257 [============================>.] - ETA: 0s - loss: 1.2198 - acc: 0.6144\n",
      "Epoch 00011: val_loss did not improve from 1.47798\n",
      "73257/73257 [==============================] - 74s 1ms/sample - loss: 1.2197 - acc: 0.6144 - val_loss: 1.7741 - val_acc: 0.5758\n",
      "Epoch 12/30\n",
      "73216/73257 [============================>.] - ETA: 0s - loss: 1.1968 - acc: 0.6234\n",
      "Epoch 00012: val_loss did not improve from 1.47798\n",
      "73257/73257 [==============================] - 74s 1ms/sample - loss: 1.1967 - acc: 0.6234 - val_loss: 1.7242 - val_acc: 0.4836\n",
      "Epoch 13/30\n",
      "73216/73257 [============================>.] - ETA: 0s - loss: 1.1790 - acc: 0.6297\n",
      "Epoch 00013: val_loss improved from 1.47798 to 1.45152, saving model to SeqMode\\mySeqModel\n",
      "73257/73257 [==============================] - 74s 1ms/sample - loss: 1.1790 - acc: 0.6297 - val_loss: 1.4515 - val_acc: 0.5864\n",
      "Epoch 14/30\n",
      "73216/73257 [============================>.] - ETA: 0s - loss: 1.1600 - acc: 0.6350\n",
      "Epoch 00014: val_loss improved from 1.45152 to 1.26797, saving model to SeqMode\\mySeqModel\n",
      "73257/73257 [==============================] - 75s 1ms/sample - loss: 1.1598 - acc: 0.6351 - val_loss: 1.2680 - val_acc: 0.6114\n",
      "Epoch 15/30\n",
      "73216/73257 [============================>.] - ETA: 0s - loss: 1.1490 - acc: 0.6409- ETA: 2s - loss: 1\n",
      "Epoch 00015: val_loss improved from 1.26797 to 1.24808, saving model to SeqMode\\mySeqModel\n",
      "73257/73257 [==============================] - 74s 1ms/sample - loss: 1.1490 - acc: 0.6409 - val_loss: 1.2481 - val_acc: 0.6265\n",
      "Epoch 16/30\n",
      "73216/73257 [============================>.] - ETA: 0s - loss: 1.1919 - acc: 0.6243\n",
      "Epoch 00016: val_loss did not improve from 1.24808\n",
      "73257/73257 [==============================] - 74s 1ms/sample - loss: 1.1919 - acc: 0.6243 - val_loss: 1.7138 - val_acc: 0.5016\n",
      "Epoch 17/30\n",
      "73216/73257 [============================>.] - ETA: 0s - loss: 1.1551 - acc: 0.6389\n",
      "Epoch 00017: val_loss did not improve from 1.24808\n",
      "73257/73257 [==============================] - 74s 1ms/sample - loss: 1.1552 - acc: 0.6388 - val_loss: 2.4197 - val_acc: 0.2854\n",
      "Epoch 18/30\n",
      "73216/73257 [============================>.] - ETA: 0s - loss: 1.1351 - acc: 0.6458\n",
      "Epoch 00018: val_loss did not improve from 1.24808\n",
      "73257/73257 [==============================] - 74s 1ms/sample - loss: 1.1352 - acc: 0.6457 - val_loss: 1.2854 - val_acc: 0.6042\n",
      "Epoch 19/30\n",
      "73216/73257 [============================>.] - ETA: 0s - loss: 1.1185 - acc: 0.6506\n",
      "Epoch 00019: val_loss did not improve from 1.24808\n",
      "73257/73257 [==============================] - 75s 1ms/sample - loss: 1.1185 - acc: 0.6506 - val_loss: 1.2735 - val_acc: 0.6274\n",
      "Epoch 20/30\n",
      "73216/73257 [============================>.] - ETA: 0s - loss: 1.1117 - acc: 0.6538\n",
      "Epoch 00020: val_loss did not improve from 1.24808\n",
      "73257/73257 [==============================] - 74s 1ms/sample - loss: 1.1119 - acc: 0.6538 - val_loss: 1.3401 - val_acc: 0.6157\n",
      "Epoch 21/30\n",
      "73216/73257 [============================>.] - ETA: 0s - loss: 1.1129 - acc: 0.6541\n",
      "Epoch 00021: val_loss did not improve from 1.24808\n",
      "73257/73257 [==============================] - 74s 1ms/sample - loss: 1.1130 - acc: 0.6540 - val_loss: 1.5531 - val_acc: 0.5882\n",
      "Epoch 22/30\n",
      "73216/73257 [============================>.] - ETA: 0s - loss: 1.0972 - acc: 0.6582\n",
      "Epoch 00022: val_loss improved from 1.24808 to 1.20688, saving model to SeqMode\\mySeqModel\n",
      "73257/73257 [==============================] - 73s 1ms/sample - loss: 1.0971 - acc: 0.6582 - val_loss: 1.2069 - val_acc: 0.6267\n",
      "Epoch 23/30\n",
      "73216/73257 [============================>.] - ETA: 0s - loss: 1.0978 - acc: 0.6572\n",
      "Epoch 00023: val_loss improved from 1.20688 to 1.16795, saving model to SeqMode\\mySeqModel\n",
      "73257/73257 [==============================] - 75s 1ms/sample - loss: 1.0978 - acc: 0.6572 - val_loss: 1.1679 - val_acc: 0.6398\n",
      "Epoch 24/30\n",
      "73216/73257 [============================>.] - ETA: 0s - loss: 1.0775 - acc: 0.6656\n",
      "Epoch 00024: val_loss improved from 1.16795 to 1.16700, saving model to SeqMode\\mySeqModel\n",
      "73257/73257 [==============================] - 75s 1ms/sample - loss: 1.0776 - acc: 0.6656 - val_loss: 1.1670 - val_acc: 0.6555\n",
      "Epoch 25/30\n",
      "73216/73257 [============================>.] - ETA: 0s - loss: 1.0723 - acc: 0.6651- ETA: 1s - loss: 1.0730 - a\n",
      "Epoch 00025: val_loss did not improve from 1.16700\n",
      "73257/73257 [==============================] - 73s 999us/sample - loss: 1.0723 - acc: 0.6651 - val_loss: 1.2380 - val_acc: 0.6441\n",
      "Epoch 26/30\n",
      "73216/73257 [============================>.] - ETA: 0s - loss: 1.0685 - acc: 0.6666\n",
      "Epoch 00026: val_loss did not improve from 1.16700\n",
      "73257/73257 [==============================] - 72s 987us/sample - loss: 1.0685 - acc: 0.6666 - val_loss: 1.2550 - val_acc: 0.6414\n",
      "Epoch 27/30\n",
      "73216/73257 [============================>.] - ETA: 0s - loss: 1.0661 - acc: 0.6685\n",
      "Epoch 00027: val_loss improved from 1.16700 to 1.08594, saving model to SeqMode\\mySeqModel\n",
      "73257/73257 [==============================] - 73s 997us/sample - loss: 1.0660 - acc: 0.6685 - val_loss: 1.0859 - val_acc: 0.6593\n",
      "Epoch 28/30\n",
      "73216/73257 [============================>.] - ETA: 0s - loss: 1.0516 - acc: 0.6709\n",
      "Epoch 00028: val_loss did not improve from 1.08594\n",
      "73257/73257 [==============================] - 73s 992us/sample - loss: 1.0518 - acc: 0.6708 - val_loss: 1.1137 - val_acc: 0.6525\n",
      "Epoch 29/30\n",
      "73216/73257 [============================>.] - ETA: 0s - loss: 1.0475 - acc: 0.6733\n",
      "Epoch 00029: val_loss did not improve from 1.08594\n",
      "73257/73257 [==============================] - 73s 999us/sample - loss: 1.0475 - acc: 0.6733 - val_loss: 1.1430 - val_acc: 0.6474\n",
      "Epoch 30/30\n",
      "73216/73257 [============================>.] - ETA: 0s - loss: 1.0390 - acc: 0.6751\n",
      "Epoch 00030: val_loss did not improve from 1.08594\n",
      "73257/73257 [==============================] - 73s 996us/sample - loss: 1.0390 - acc: 0.6751 - val_loss: 1.1524 - val_acc: 0.6483\n"
     ]
    }
   ],
   "source": [
    "history = model2.fit(X_train, y_train_oh, callbacks=[checkpoint, earlystop], batch_size=128, validation_data=(X_test, y_test_oh), epochs=30)"
   ]
  },
  {
   "cell_type": "code",
   "execution_count": 11,
   "metadata": {},
   "outputs": [
    {
     "data": {
      "text/plain": [
       "Text(0.5, 1.0, 'Loss')"
      ]
     },
     "execution_count": 11,
     "metadata": {},
     "output_type": "execute_result"
    },
    {
     "data": {
      "image/png": "[encoded data removed]",
      "text/plain": [
       "<Figure size 432x288 with 1 Axes>"
      ]
     },
     "metadata": {
      "needs_background": "light"
     },
     "output_type": "display_data"
    }
   ],
   "source": [
    "\n",
    "\n",
    "plt.plot(history.history['loss'])\n",
    "plt.plot(history.history['val_loss'])\n",
    "plt.xlabel('Epochs')\n",
    "plt.ylabel('Loss')\n",
    "plt.legend(['loss','val_loss'], loc='upper right')\n",
    "plt.title(\"Loss\")\n",
    "\n"
   ]
  },
  {
   "cell_type": "code",
   "execution_count": 12,
   "metadata": {},
   "outputs": [
    {
     "data": {
      "text/plain": [
       "Text(0.5, 1.0, 'Accuracy')"
      ]
     },
     "execution_count": 12,
     "metadata": {},
     "output_type": "execute_result"
    },
    {
     "data": {
      "image/png": "[encoded data removed]",
      "text/plain": [
       "<Figure size 432x288 with 1 Axes>"
      ]
     },
     "metadata": {
      "needs_background": "light"
     },
     "output_type": "display_data"
    }
   ],
   "source": [
    "plt.plot(history.history['acc'])\n",
    "plt.plot(history.history['val_acc'])\n",
    "plt.xlabel('Epochs')\n",
    "plt.ylabel('Acc')\n",
    "plt.legend(['loss','val_acc'], loc='lower right')\n",
    "plt.title(\"Accuracy\")\n"
   ]
  },
  {
   "cell_type": "code",
   "execution_count": null,
   "metadata": {},
   "outputs": [],
   "source": []
  },
  {
   "cell_type": "code",
   "execution_count": null,
   "metadata": {},
   "outputs": [],
   "source": []
  },
  {
   "cell_type": "markdown",
   "metadata": {},
   "source": [
    "## 3. CNN neural network classifier\n",
    "* Build a CNN classifier model using the Sequential API. Your model should use the Conv2D, MaxPool2D, BatchNormalization, Flatten, Dense and Dropout layers. The final layer should again have a 10-way softmax output. \n",
    "* You should design and build the model yourself. Feel free to experiment with different CNN architectures. _Hint: to achieve a reasonable accuracy you won't need to use more than 2 or 3 convolutional layers and 2 fully connected layers.)_\n",
    "* The CNN model should use fewer trainable parameters than your MLP model.\n",
    "* Compile and train the model (we recommend a maximum of 30 epochs), making use of both training and validation sets during the training run.\n",
    "* Your model should track at least one appropriate metric, and use at least two callbacks during training, one of which should be a ModelCheckpoint callback.\n",
    "* You should aim to beat the MLP model performance with fewer parameters!\n",
    "* Plot the learning curves for loss vs epoch and accuracy vs epoch for both training and validation sets.\n",
    "* Compute and display the loss and accuracy of the trained model on the test set."
   ]
  },
  {
   "cell_type": "code",
   "execution_count": 13,
   "metadata": {},
   "outputs": [],
   "source": [
    "model3 = Sequential([\n",
    "    Conv2D(filters= 16, kernel_size= 3, activation='relu', input_shape=X_train[0].shape),\n",
    "    MaxPool2D(pool_size= (3,3), strides=1),\n",
    "    Conv2D(filters= 32, kernel_size = 3, padding='valid', strides=1, activation='relu'),\n",
    "    MaxPool2D(pool_size = (1,1), strides = 3),\n",
    "    BatchNormalization(),\n",
    "    Conv2D(filters= 32, kernel_size = 3, padding='valid', strides=2, activation='relu'),\n",
    "    tf.keras.layers.Dropout(0.5),\n",
    "    Flatten(),\n",
    "    Dense(128, activation='relu'),\n",
    "    Dense(32, activation='relu'),\n",
    "    tf.keras.layers.Dropout(0.3),\n",
    "    Dense(10, activation='softmax')\n",
    "])"
   ]
  },
  {
   "cell_type": "code",
   "execution_count": 14,
   "metadata": {},
   "outputs": [],
   "source": [
    "model3.compile(optimizer='adam', loss='categorical_crossentropy', metrics=['acc'])"
   ]
  },
  {
   "cell_type": "code",
   "execution_count": 15,
   "metadata": {},
   "outputs": [],
   "source": [
    "\n",
    "\n",
    "callback1 = ModelCheckpoint(filepath='CNNweights', save_best_only=True, save_weights_only=True, save_freq=5000,monitor='val_acc')\n",
    "callback2 = EarlyStopping(monitor='loss',patience=7, verbose=1)\n",
    "\n"
   ]
  },
  {
   "cell_type": "code",
   "execution_count": null,
   "metadata": {},
   "outputs": [
    {
     "name": "stdout",
     "output_type": "stream",
     "text": [
      "Train on 73257 samples, validate on 26032 samples\n",
      "Epoch 1/2\n",
      "73216/73257 [============================>.] - ETA: 0s - loss: 1.1975 - acc: 0.6031\n",
      "Epoch 00001: val_loss improved from 1.08594 to 0.88186, saving model to SeqMode\\mySeqModel\n",
      "73257/73257 [==============================] - 455s 6ms/sample - loss: 1.1973 - acc: 0.6032 - val_loss: 0.8819 - val_acc: 0.7253\n",
      "Epoch 2/2\n",
      "26368/73257 [=========>....................] - ETA: 4:25 - loss: 0.8986 - acc: 0.7180"
     ]
    }
   ],
   "source": [
    "history = model3.fit(X_train, y_train_oh, callbacks=[checkpoint, earlystop], batch_size=256, validation_data=(X_test, y_test_oh), epochs=2)"
   ]
  },
  {
   "cell_type": "code",
   "execution_count": null,
   "metadata": {},
   "outputs": [],
   "source": []
  },
  {
   "cell_type": "code",
   "execution_count": null,
   "metadata": {},
   "outputs": [],
   "source": []
  },
  {
   "cell_type": "markdown",
   "metadata": {},
   "source": [
    "## 4. Get model predictions\n",
    "* Load the best weights for the MLP and CNN models that you saved during the training run.\n",
    "* Randomly select 5 images and corresponding labels from the test set and display the images with their labels.\n",
    "* Alongside the image and label, show each model’s predictive distribution as a bar chart, and the final model prediction given by the label with maximum probability."
   ]
  },
  {
   "cell_type": "code",
   "execution_count": null,
   "metadata": {},
   "outputs": [],
   "source": [
    "model2.load_weights('SeqMode\\\\mySeqModel')"
   ]
  },
  {
   "cell_type": "code",
   "execution_count": null,
   "metadata": {},
   "outputs": [],
   "source": [
    "import random"
   ]
  },
  {
   "cell_type": "code",
   "execution_count": null,
   "metadata": {},
   "outputs": [],
   "source": [
    "\n",
    "\n",
    "num_test_images = X_test.shape[0]\n",
    "\n",
    "random_inx = np.random.choice(num_test_images, 5)\n",
    "random_test_images = X_test[random_inx, ...]\n",
    "random_test_labels = y_test[random_inx, ...]\n",
    "\n",
    "predictions = model2.predict(random_test_images)\n",
    "\n",
    "fig, axes = plt.subplots(5, 2, figsize=(16, 12))\n",
    "fig.subplots_adjust(hspace=0.4, wspace=-0.2)\n",
    "\n",
    "for i, (prediction, image, label) in enumerate(zip(predictions, random_test_images, random_test_labels)):\n",
    "    axes[i, 0].imshow(np.squeeze(image))\n",
    "    axes[i, 0].get_xaxis().set_visible(False)\n",
    "    axes[i, 0].get_yaxis().set_visible(False)\n",
    "    axes[i, 0].text(10., -1.5, f'Digit {label}')\n",
    "    axes[i, 1].bar(np.arange(1,11), prediction)\n",
    "    axes[i, 1].set_xticks(np.arange(1,11))\n",
    "    axes[i, 1].set_title(\"Categorical distribution. Model prediction\")\n",
    "    \n",
    "plt.show()\n",
    "\n"
   ]
  },
  {
   "cell_type": "code",
   "execution_count": null,
   "metadata": {},
   "outputs": [],
   "source": [
    "\n",
    "\n",
    "num_test_images = X_test.shape[0]\n",
    "\n",
    "random_inx = np.random.choice(num_test_images, 5)\n",
    "random_test_images = X_test[random_inx, ...]\n",
    "random_test_labels = y_test[random_inx, ...]\n",
    "\n",
    "predictions = model3.predict(random_test_images)\n",
    "\n",
    "fig, axes = plt.subplots(5, 2, figsize=(16, 12))\n",
    "fig.subplots_adjust(hspace=0.4, wspace=-0.2)\n",
    "\n",
    "for i, (prediction, image, label) in enumerate(zip(predictions, random_test_images, random_test_labels)):\n",
    "    axes[i, 0].imshow(np.squeeze(image))\n",
    "    axes[i, 0].get_xaxis().set_visible(False)\n",
    "    axes[i, 0].get_yaxis().set_visible(False)\n",
    "    axes[i, 0].text(10., -1.5, f'Digit {label}')\n",
    "    axes[i, 1].bar(np.arange(1,11), prediction)\n",
    "    axes[i, 1].set_xticks(np.arange(1,11))\n",
    "    axes[i, 1].set_title(\"Categorical distribution. Model prediction\")\n",
    "    \n",
    "plt.show()\n",
    "\n"
   ]
  },
  {
   "cell_type": "code",
   "execution_count": null,
   "metadata": {},
   "outputs": [],
   "source": []
  },
  {
   "cell_type": "code",
   "execution_count": null,
   "metadata": {},
   "outputs": [],
   "source": []
  }
 ],
 "metadata": {
  "kernelspec": {
   "display_name": "Python 3",
   "language": "python",
   "name": "python3"
  },
  "language_info": {
   "codemirror_mode": {
    "name": "ipython",
    "version": 3
   },
   "file_extension": ".py",
   "mimetype": "text/x-python",
   "name": "python",
   "nbconvert_exporter": "python",
   "pygments_lexer": "ipython3",
   "version": "3.7.1"
  }
 },
 "nbformat": 4,
 "nbformat_minor": 2
}
